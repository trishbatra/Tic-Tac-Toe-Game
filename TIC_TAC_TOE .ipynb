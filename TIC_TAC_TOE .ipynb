{
 "cells": [
  {
   "cell_type": "code",
   "execution_count": 1,
   "id": "a3a1446f",
   "metadata": {},
   "outputs": [],
   "source": [
    "# this functon will display the board\n",
    "def display_board(board_name):\n",
    "    print(board_name[1], \"|\", board_name[2], \"|\", board_name[3] )\n",
    "    print(\"----------\")\n",
    "    print(board_name[4], \"|\", board_name[5], \"|\", board_name[6] )\n",
    "    print(\"----------\")\n",
    "    print(board_name[7], \"|\", board_name[8], \"|\", board_name[9] )"
   ]
  },
  {
   "cell_type": "code",
   "execution_count": 2,
   "id": "379e155b",
   "metadata": {},
   "outputs": [],
   "source": [
    "test_board= [ \"index_0\", \"o\", \"x\",\"o\", \"x\", \"o\", \"x\",\"o\", \"x\",\"o\"]"
   ]
  },
  {
   "cell_type": "code",
   "execution_count": 3,
   "id": "2ea19755",
   "metadata": {},
   "outputs": [
    {
     "name": "stdout",
     "output_type": "stream",
     "text": [
      "o | x | o\n",
      "----------\n",
      "x | o | x\n",
      "----------\n",
      "o | x | o\n"
     ]
    }
   ],
   "source": [
    "display_board(test_board)"
   ]
  },
  {
   "cell_type": "code",
   "execution_count": 71,
   "id": "0dd74efb",
   "metadata": {},
   "outputs": [],
   "source": [
    "# will ask the user whixh symbol he wanna play as\n",
    "def choose_symbol():\n",
    "    symbol = \"\"\n",
    "    while symbol!= \"x\" and symbol!= \"o\":\n",
    "        symbol= input(\"Add the symbol you wanna play as 'x' or 'o': \").lower()        \n",
    "    if symbol == \"x\":\n",
    "        return ('x','o') \n",
    "    else:\n",
    "        return ('o', 'x')\n",
    "            "
   ]
  },
  {
   "cell_type": "code",
   "execution_count": 16,
   "id": "5aaa2bcb",
   "metadata": {},
   "outputs": [
    {
     "name": "stdout",
     "output_type": "stream",
     "text": [
      "Add the symbol you wanna play as 'x' or 'o': X\n",
      "('x', 'o')\n"
     ]
    }
   ],
   "source": [
    "choose_symbol()"
   ]
  },
  {
   "cell_type": "code",
   "execution_count": 13,
   "id": "b9c99c3d",
   "metadata": {},
   "outputs": [],
   "source": [
    "# this function will randomly decide who will go first"
   ]
  },
  {
   "cell_type": "code",
   "execution_count": 75,
   "id": "8d1bd14b",
   "metadata": {},
   "outputs": [],
   "source": [
    "import random\n",
    "\n",
    "def choose_first():\n",
    "    if random.randint(0, 1) == 0:\n",
    "        return 'Player 2'\n",
    "    else:\n",
    "        return 'Player 1'"
   ]
  },
  {
   "cell_type": "code",
   "execution_count": 76,
   "id": "a233864f",
   "metadata": {},
   "outputs": [
    {
     "data": {
      "text/plain": [
       "'Player 2'"
      ]
     },
     "execution_count": 76,
     "metadata": {},
     "output_type": "execute_result"
    }
   ],
   "source": [
    "choose_first()"
   ]
  },
  {
   "cell_type": "code",
   "execution_count": 78,
   "id": "326f3389",
   "metadata": {},
   "outputs": [],
   "source": [
    "# function to place marker at index user want's to\n",
    "def place_marker(board,marker,position):\n",
    "    board[position] = marker"
   ]
  },
  {
   "cell_type": "code",
   "execution_count": 61,
   "id": "a88a1d53",
   "metadata": {},
   "outputs": [
    {
     "name": "stdout",
     "output_type": "stream",
     "text": [
      "  |   |  \n",
      "----------\n",
      "  |   |  \n",
      "----------\n",
      "  |   | x\n"
     ]
    }
   ],
   "source": [
    "position(test_board, \"x\",9)\n",
    "display_board(test_board)"
   ]
  },
  {
   "cell_type": "code",
   "execution_count": 39,
   "id": "3a193027",
   "metadata": {},
   "outputs": [],
   "source": [
    "# checking if someone has won\n",
    "def win_check(board,symbol):\n",
    "    return ((board[1] == board[2] == board[3] == symbol) or\n",
    "            (board[4] == board[5] == board[6] == symbol) or\n",
    "            (board[7] == board[8] == board[9] == symbol) or\n",
    "            (board[1] == board[4] == board[7] == symbol) or\n",
    "            (board[2] == board[5] == board[8] == symbol) or\n",
    "            (board[3] == board[6] == board[9] == symbol) or\n",
    "            (board[1] == board[5] == board[9] == symbol) or\n",
    "            (board[3] == board[5] == board[7] == symbol))\n",
    "           \n",
    "        "
   ]
  },
  {
   "cell_type": "code",
   "execution_count": 41,
   "id": "47ce6920",
   "metadata": {},
   "outputs": [
    {
     "data": {
      "text/plain": [
       "True"
      ]
     },
     "execution_count": 41,
     "metadata": {},
     "output_type": "execute_result"
    }
   ],
   "source": [
    "win_check(test_board, \"x\")"
   ]
  },
  {
   "cell_type": "code",
   "execution_count": 65,
   "id": "a1ef0909",
   "metadata": {},
   "outputs": [],
   "source": [
    "# will check that the space user want to enter the symbol at is empty or not\n",
    "def space_check(board, position):\n",
    "    return board[position] == \" \""
   ]
  },
  {
   "cell_type": "code",
   "execution_count": 51,
   "id": "d57ef31b",
   "metadata": {},
   "outputs": [],
   "source": [
    "# checking if the board is full or empty\n",
    "def full_space_check(board):\n",
    "    for i in range(10):\n",
    "        if space_check(board, i):\n",
    "            return False\n",
    "    else:\n",
    "        return True"
   ]
  },
  {
   "cell_type": "code",
   "execution_count": 53,
   "id": "dad1f827",
   "metadata": {},
   "outputs": [
    {
     "data": {
      "text/plain": [
       "False"
      ]
     },
     "execution_count": 53,
     "metadata": {},
     "output_type": "execute_result"
    }
   ],
   "source": [
    "full_space_check(test_board)"
   ]
  },
  {
   "cell_type": "code",
   "execution_count": 66,
   "id": "83536a16",
   "metadata": {},
   "outputs": [],
   "source": [
    "# it willl keep asking for input until the space is not empty or if user adds incoorect position\n",
    "def player_choice(board):\n",
    "    position = 0\n",
    "    \n",
    "    while position not in [1,2,3,4,5,6,7,8,9] or not space_check(board, position):\n",
    "        position = int(input('Choose your next position: (1-9) '))\n",
    "        \n",
    "    return position"
   ]
  },
  {
   "cell_type": "code",
   "execution_count": 67,
   "id": "87679dcd",
   "metadata": {},
   "outputs": [
    {
     "data": {
      "text/plain": [
       "[' ', ' ', ' ', ' ', ' ', ' ', ' ', ' ', ' ', 'x']"
      ]
     },
     "execution_count": 67,
     "metadata": {},
     "output_type": "execute_result"
    }
   ],
   "source": [
    "test_board"
   ]
  },
  {
   "cell_type": "code",
   "execution_count": 68,
   "id": "2b8bdc1e",
   "metadata": {},
   "outputs": [
    {
     "name": "stdout",
     "output_type": "stream",
     "text": [
      "Choose your next position: (1-9) 5\n"
     ]
    },
    {
     "data": {
      "text/plain": [
       "5"
      ]
     },
     "execution_count": 68,
     "metadata": {},
     "output_type": "execute_result"
    }
   ],
   "source": [
    "player_choice(test_board)"
   ]
  },
  {
   "cell_type": "code",
   "execution_count": 69,
   "id": "c29d5309",
   "metadata": {},
   "outputs": [],
   "source": [
    "def replay():\n",
    "    \n",
    "    return input('Do you want to play again? Enter Yes or No: ').lower().startswith('y')"
   ]
  },
  {
   "cell_type": "code",
   "execution_count": 81,
   "id": "d3b88c37",
   "metadata": {},
   "outputs": [
    {
     "name": "stdout",
     "output_type": "stream",
     "text": [
      "Welcome to TIC-TAC-TOE\n",
      "Add the symbol you wanna play as 'x' or 'o': x\n",
      "Player 1 will go first.\n",
      "Are you ready to play? Enter Yes or No.yes\n",
      "  |   |  \n",
      "----------\n",
      "  |   |  \n",
      "----------\n",
      "  |   |  \n",
      "Choose your next position: (1-9) 5\n",
      "  |   |  \n",
      "----------\n",
      "  | x |  \n",
      "----------\n",
      "  |   |  \n",
      "Choose your next position: (1-9) 7\n",
      "  |   |  \n",
      "----------\n",
      "  | x |  \n",
      "----------\n",
      "o |   |  \n",
      "Choose your next position: (1-9) 4\n",
      "  |   |  \n",
      "----------\n",
      "x | x |  \n",
      "----------\n",
      "o |   |  \n",
      "Choose your next position: (1-9) 9\n",
      "  |   |  \n",
      "----------\n",
      "x | x |  \n",
      "----------\n",
      "o |   | o\n",
      "Choose your next position: (1-9) 6\n",
      "  |   |  \n",
      "----------\n",
      "x | x | x\n",
      "----------\n",
      "o |   | o\n",
      "Congratulations! You have won the game!\n",
      "Do you want to play again? Enter Yes or No: no\n"
     ]
    }
   ],
   "source": [
    "print(\"Welcome to TIC-TAC-TOE\")\n",
    "while True:\n",
    "    # Reset the board\n",
    "    theBoard = [' '] * 10\n",
    "    player1_marker, player2_marker = choose_symbol()\n",
    "    turn = choose_first()\n",
    "    print(turn + \" will go first.\")\n",
    "    \n",
    "    play_game = input('Are you ready to play? Enter Yes or No.')\n",
    "    \n",
    "    if play_game.lower()[0] == 'y':\n",
    "        game_on = True\n",
    "    else:\n",
    "        game_on = False\n",
    "\n",
    "    while game_on:\n",
    "        if turn == 'Player 1':\n",
    "            # Player1's turn.\n",
    "            \n",
    "            display_board(theBoard)\n",
    "            position = player_choice(theBoard)\n",
    "            place_marker(theBoard, player1_marker, position)\n",
    "\n",
    "            if win_check(theBoard, player1_marker):\n",
    "                display_board(theBoard)\n",
    "                print('Congratulations! You have won the game!')\n",
    "                game_on = False\n",
    "            else:\n",
    "                if full_space_check(theBoard):\n",
    "                    display_board(theBoard)\n",
    "                    print('The game is a draw!')\n",
    "                    break\n",
    "                else:\n",
    "                    turn = 'Player 2'\n",
    "\n",
    "        else:\n",
    "            # Player2's turn.\n",
    "            \n",
    "            display_board(theBoard)\n",
    "            position = player_choice(theBoard)\n",
    "            place_marker(theBoard, player2_marker, position)\n",
    "\n",
    "            if win_check(theBoard, player2_marker):\n",
    "                display_board(theBoard)\n",
    "                print('Player 2 has won!')\n",
    "                game_on = False\n",
    "            else:\n",
    "                if full_space_check(theBoard):\n",
    "                    display_board(theBoard)\n",
    "                    print('The game is a draw!')\n",
    "                    break\n",
    "                else:\n",
    "                    turn = 'Player 1'\n",
    "\n",
    "    if not replay():\n",
    "        break\n"
   ]
  },
  {
   "cell_type": "code",
   "execution_count": null,
   "id": "831eca6f",
   "metadata": {},
   "outputs": [],
   "source": []
  }
 ],
 "metadata": {
  "kernelspec": {
   "display_name": "Python 3 (ipykernel)",
   "language": "python",
   "name": "python3"
  },
  "language_info": {
   "codemirror_mode": {
    "name": "ipython",
    "version": 3
   },
   "file_extension": ".py",
   "mimetype": "text/x-python",
   "name": "python",
   "nbconvert_exporter": "python",
   "pygments_lexer": "ipython3",
   "version": "3.9.7"
  }
 },
 "nbformat": 4,
 "nbformat_minor": 5
}
